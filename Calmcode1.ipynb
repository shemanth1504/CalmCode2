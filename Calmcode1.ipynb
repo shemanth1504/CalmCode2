{
  "nbformat": 4,
  "nbformat_minor": 0,
  "metadata": {
    "colab": {
      "provenance": []
    },
    "kernelspec": {
      "name": "python3",
      "display_name": "Python 3"
    },
    "language_info": {
      "name": "python"
    }
  },
  "cells": [
    {
      "cell_type": "markdown",
      "source": [
        "Calmcode 1 – python loops/lists ( https://calmcode.io/course/comprehensions/if )\n",
        "Code (1) –  Basic List comprehension with conditionals"
      ],
      "metadata": {
        "id": "2rqHlC4i3iLm"
      }
    },
    {
      "cell_type": "code",
      "execution_count": 1,
      "metadata": {
        "colab": {
          "base_uri": "https://localhost:8080/"
        },
        "id": "a2EWlFW93Uib",
        "outputId": "999e5dcb-770f-4605-e6a6-0c952ce0d6df"
      },
      "outputs": [
        {
          "output_type": "stream",
          "name": "stdout",
          "text": [
            "[4, 16, 36, 64, 100]\n"
          ]
        }
      ],
      "source": [
        "numbers = range(1, 11)\n",
        "squares_of_even_numbers = [x ** 2 for x in numbers if x % 2 == 0]\n",
        "print(squares_of_even_numbers)"
      ]
    },
    {
      "cell_type": "markdown",
      "source": [
        "This code creates a list of squares of even numbers from 1 to 10 (inclusive) and then prints the list."
      ],
      "metadata": {
        "id": "CktvwLfP3fuk"
      }
    },
    {
      "cell_type": "markdown",
      "source": [
        "Code (2) – Using Multiple Conditions"
      ],
      "metadata": {
        "id": "SdXluhtA3xAx"
      }
    },
    {
      "cell_type": "code",
      "source": [
        "squares_of_selected_evens = [x ** 2 for x in numbers if x % 2 == 0 if x > 4 if x < 8]\n",
        "print(squares_of_selected_evens)"
      ],
      "metadata": {
        "colab": {
          "base_uri": "https://localhost:8080/"
        },
        "id": "tptzX4K13cXe",
        "outputId": "fb2b2c17-fbd6-40fb-e4f4-1a4b19060725"
      },
      "execution_count": 2,
      "outputs": [
        {
          "output_type": "stream",
          "name": "stdout",
          "text": [
            "[36]\n"
          ]
        }
      ]
    },
    {
      "cell_type": "markdown",
      "source": [
        "This code creates a list of squares of even numbers from the numbers list that are greater than 4 and less than 8. The resulting list squares_of_selected_evens contains the squares of those selected even numbers."
      ],
      "metadata": {
        "id": "i5lU4LYV385q"
      }
    }
  ]
}